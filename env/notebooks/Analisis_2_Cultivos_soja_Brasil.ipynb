{
 "cells": [
  {
   "cell_type": "markdown",
   "id": "5c4744a2",
   "metadata": {},
   "source": [
    "# 0. Imports"
   ]
  },
  {
   "cell_type": "code",
   "execution_count": null,
   "id": "07b603b9",
   "metadata": {},
   "outputs": [],
   "source": [
    "import os\n",
    "import warnings\n",
    "\n",
    "warnings.filterwarnings('ignore')"
   ]
  },
  {
   "cell_type": "code",
   "execution_count": null,
   "id": "155f85bd",
   "metadata": {},
   "outputs": [],
   "source": [
    "import h3\n",
    "import numpy as np\n",
    "import pandas as pd\n",
    "import geopandas as gpd\n",
    "import rasterio as rio\n",
    "\n",
    "import matplotlib.pyplot as plt\n",
    "import pydeck as pdk\n",
    "\n",
    "from shapely import Point\n",
    "from gcsfs import GCSFileSystem\n",
    "\n",
    "from research.analysis.transform.h3 import point_to_h3, raster_band_to_pandas_h3\n",
    "from research.viz.plot import equal_color_intervals"
   ]
  },
  {
   "cell_type": "markdown",
   "id": "199fd841",
   "metadata": {},
   "source": [
    "# 1. Leemos nuestros datasets"
   ]
  },
  {
   "cell_type": "code",
   "execution_count": null,
   "id": "5314ebff",
   "metadata": {},
   "outputs": [],
   "source": [
    "gcs_bucket = os.getenv(\"GCS_BUCKET_URI\")\n",
    "fs = GCSFileSystem()"
   ]
  },
  {
   "cell_type": "code",
   "execution_count": null,
   "id": "b536d262",
   "metadata": {},
   "outputs": [],
   "source": [
    "soja_gdf = gpd.read_parquet(\n",
    "    f'{gcs_bucket}/spam_soy_bean_global_production_2010.parquet', \n",
    "    filesystem=fs\n",
    ")\n",
    "\n",
    "soja_gdf.head(3)"
   ]
  },
  {
   "cell_type": "code",
   "execution_count": null,
   "id": "5a21d517",
   "metadata": {},
   "outputs": [],
   "source": [
    "aoi_df = pd.read_csv(f'{gcs_bucket}/area_of_interest.csv')\n",
    "\n",
    "aoi_df.head()"
   ]
  },
  {
   "cell_type": "code",
   "execution_count": null,
   "id": "b875e32e",
   "metadata": {},
   "outputs": [],
   "source": [
    "aoi_gdf = gpd.GeoDataFrame(\n",
    "    aoi_df, \n",
    "    geometry=gpd.GeoSeries.from_wkb(aoi_df['geom'])\n",
    ").drop(columns=['geom'])\n",
    "\n",
    "aoi_gdf.head()"
   ]
  },
  {
   "cell_type": "markdown",
   "id": "7d888b2e",
   "metadata": {},
   "source": [
    "## 2. Visualizamos las capas en un mapa"
   ]
  },
  {
   "cell_type": "code",
   "execution_count": null,
   "id": "c4d80b81",
   "metadata": {},
   "outputs": [],
   "source": [
    "# Define the layer to display in Pydeck use expression to style by radius\n",
    "\n",
    "layer = pdk.Layer('GeoJsonLayer', # E.g: switch to 'HeatmapLayer'\n",
    "                  data=soja_gdf,\n",
    "                  get_position='geometry.coordinates',\n",
    "                  get_point_radius='5 + (soyb_a * 0.5)',\n",
    "                  get_fill_color=[178, 34, 34],\n",
    "                  pickable=True,\n",
    "        )\n",
    "\n",
    "\n",
    "aoi_layer = pdk.Layer('GeoJsonLayer', # E.g: switch to 'HeatmapLayer'\n",
    "                  data=aoi_gdf,\n",
    "                  get_position='geometry.coordinates',\n",
    "                  storked=True,\n",
    "                  get_fill_color=[0, 0, 0, 0],\n",
    "                  get_line_color=[134, 19, 218],  \n",
    "                  get_line_width=10_000,  \n",
    "                  pickable=True,\n",
    "        )\n",
    "\n",
    "\n",
    "# Define the view state and set the initial camera position\n",
    "view_state = pdk.ViewState(latitude=40.4168, longitude=-3.7038, zoom=1)\n",
    "\n",
    "# Define the map object and display the layer\n",
    "viz = pdk.Deck(\n",
    "    layers=[aoi_layer, layer], \n",
    "    initial_view_state=view_state, \n",
    "    map_provider='carto', \n",
    "    map_style='light',\n",
    ")\n",
    "\n",
    "viz.to_html()"
   ]
  },
  {
   "cell_type": "markdown",
   "id": "4ec52427",
   "metadata": {},
   "source": [
    "## Usamos un join espacial para filtrar los datos dentro de nuestra AOI"
   ]
  },
  {
   "cell_type": "code",
   "execution_count": null,
   "id": "0a4e8dd3",
   "metadata": {
    "scrolled": true
   },
   "outputs": [],
   "source": [
    "soja_aoi = soja_gdf.sjoin(aoi_gdf, how='inner')\n",
    "\n",
    "soja_aoi.head()"
   ]
  },
  {
   "cell_type": "code",
   "execution_count": null,
   "id": "49011ee7",
   "metadata": {},
   "outputs": [],
   "source": [
    "# Define the layer to display in Pydeck use expression to style by radius\n",
    "\n",
    "layer = pdk.Layer('GeoJsonLayer', # E.g: switch to 'HeatmapLayer'\n",
    "                  data=soja_aoi,\n",
    "                  get_position='geometry.coordinates',\n",
    "                  get_point_radius='5 + (soyb_a * 0.5)',\n",
    "                  get_fill_color=[178, 34, 34],\n",
    "                  pickable=True,\n",
    "        )\n",
    "\n",
    "\n",
    "\n",
    "# Define the view state and set the initial camera position\n",
    "view_state = pdk.ViewState(latitude=40.4168, longitude=-3.7038, zoom=1)\n",
    "\n",
    "# Define the map object and display the layer\n",
    "viz = pdk.Deck(\n",
    "    layers=[layer], \n",
    "    initial_view_state=view_state, \n",
    "    map_provider='carto', \n",
    "    map_style='light',\n",
    ")\n",
    "\n",
    "viz.to_html()"
   ]
  },
  {
   "cell_type": "markdown",
   "id": "d3a42382",
   "metadata": {},
   "source": [
    "## 3. Agregamos nuestros datos de cultivo de soja usando H3"
   ]
  },
  {
   "cell_type": "code",
   "execution_count": null,
   "id": "a0cf6395",
   "metadata": {},
   "outputs": [],
   "source": [
    "resolution = 6\n",
    "\n",
    "soja_aoi[f'h3_res{resolution}'] = soja_aoi['geometry'].apply(point_to_h3, args=(resolution,))\n",
    "\n",
    "soja_aoi.head(3)"
   ]
  },
  {
   "cell_type": "code",
   "execution_count": null,
   "id": "5e44997c",
   "metadata": {},
   "outputs": [],
   "source": [
    "soja_h3 = soja_aoi.groupby(by=f'h3_res{resolution}')[['soyb_a']].sum().reset_index()\n",
    "\n",
    "soja_h3.head()"
   ]
  },
  {
   "cell_type": "code",
   "execution_count": null,
   "id": "0a3201fe",
   "metadata": {},
   "outputs": [],
   "source": [
    "style_expression, legend = equal_color_intervals(\n",
    "    soja_h3, \n",
    "    'soyb_a', \n",
    "    'Temps', \n",
    "    5, \n",
    "    return_legend=True, \n",
    "    legend_title='Producción de Soja (mt)'\n",
    ")\n",
    "\n",
    "display(legend)\n",
    "\n",
    "h3_layer = pdk.Layer(\n",
    "    \"H3HexagonLayer\",\n",
    "    data=soja_h3,\n",
    "    pickable=True,\n",
    "    stroked=True,\n",
    "    filled=True,\n",
    "    extruded=True,\n",
    "    get_elevation='1 + (soyb_a * 1.5)',\n",
    "    get_hexagon=f'h3_res{resolution}',\n",
    "    get_fill_color=style_expression,\n",
    "    get_line_color=[255, 255, 255],\n",
    "    line_width_min_pixels=3,\n",
    ")\n",
    "\n",
    "view_state = pdk.ViewState(\n",
    "    latitude=-14.235,\n",
    "    longitude=-51.9253,\n",
    "    zoom=4,\n",
    "    pitch=40.5,\n",
    "    bearing=-27.36\n",
    ")\n",
    "\n",
    "r = pdk.Deck(\n",
    "        layers=[h3_layer], \n",
    "        initial_view_state=view_state, \n",
    "        map_provider='carto', \n",
    "        map_style='dark',\n",
    ")\n",
    "\n",
    "r.to_html()"
   ]
  },
  {
   "cell_type": "markdown",
   "id": "0ce6df48",
   "metadata": {},
   "source": [
    "# 4. Contextualizamos los datos con información sobre area quemada "
   ]
  },
  {
   "cell_type": "markdown",
   "id": "f9e3a02b",
   "metadata": {},
   "source": [
    "Usaremos el modelo de la NASA MCD64A1.006 MODIS Burned Area Monthly Global 500m product"
   ]
  },
  {
   "cell_type": "code",
   "execution_count": null,
   "id": "a8667adc",
   "metadata": {},
   "outputs": [],
   "source": [
    "with rio.open(f'{gcs_bucket}/BurnedAreaAOI_07_10_south_america.tiff') as src:\n",
    "    # Print some metadata\n",
    "    print(f'Raster shape: {src.shape}')\n",
    "    print(f'Number of bands: {src.count}')\n",
    "    print(f'Coordinate reference system: {src.crs}')\n",
    "    \n",
    "    # Read the raster data as a numpy array\n",
    "    raster = src\n",
    "    band = src.read(1) # use 1 to read the first band\n",
    "\n",
    "fig, ax = plt.subplots(figsize=(6, 10))    \n",
    "    \n",
    "plt.imshow(band, cmap='viridis')"
   ]
  },
  {
   "cell_type": "code",
   "execution_count": null,
   "id": "bbdfc9d5",
   "metadata": {},
   "outputs": [],
   "source": [
    "burned_h3 = raster_band_to_pandas_h3(\n",
    "    band, \n",
    "    raster, \n",
    "    resolution, \n",
    "    h3_col_name=f'h3_res{resolution}'\n",
    ")\n",
    "\n",
    "burned_h3.head()"
   ]
  },
  {
   "cell_type": "code",
   "execution_count": null,
   "id": "0ef68da4",
   "metadata": {},
   "outputs": [],
   "source": [
    "soja_burned_h3 = soja_h3.merge(burned_h3, on=f'h3_res{resolution}',  how='left')\n",
    "\n",
    "soja_burned_h3['burned'] = soja_burned_h3['value'] > 0\n",
    "\n",
    "soja_only_burned_h3 = soja_burned_h3[soja_burned_h3['burned']]\n",
    "\n",
    "soja_only_burned_h3.head()"
   ]
  },
  {
   "cell_type": "code",
   "execution_count": null,
   "id": "f56a2128",
   "metadata": {},
   "outputs": [],
   "source": [
    "soja_burned_h3_layer = pdk.Layer(\n",
    "    \"H3HexagonLayer\",\n",
    "    data=soja_only_burned_h3,\n",
    "    pickable=True,\n",
    "    stroked=True,\n",
    "    filled=True,\n",
    "    opacity=0.4,\n",
    "    get_hexagon=f'h3_res{resolution}',\n",
    "    get_fill_color=style_expression,\n",
    "    get_line_color=[255, 255, 255],\n",
    "    line_width_min_pixels=2,\n",
    ")\n",
    "\n",
    "burned_h3_layer = pdk.Layer(\n",
    "    \"H3HexagonLayer\",\n",
    "    data=burned_h3[burned_h3['value'] > 0],\n",
    "    pickable=True,\n",
    "    stroked=True,\n",
    "    filled=True,\n",
    "    opacity=0.4,\n",
    "    get_hexagon=f'h3_res{resolution}',\n",
    "    get_fill_color=[255, 255, 255],\n",
    "    get_line_color=[255, 255, 255],\n",
    "    line_width_min_pixels=2,\n",
    ")\n",
    "\n",
    "view_state = pdk.ViewState(\n",
    "    latitude=-12.6819,\n",
    "    longitude=-55.4209,\n",
    "    zoom=7,\n",
    ")\n",
    "\n",
    "r = pdk.Deck(\n",
    "        layers=[burned_h3_layer, soja_burned_h3_layer], \n",
    "        initial_view_state=view_state, \n",
    "        map_provider='google_maps', \n",
    "        map_style='satellite',\n",
    ")\n",
    "\n",
    "r.to_html()"
   ]
  },
  {
   "cell_type": "markdown",
   "id": "93250f58",
   "metadata": {},
   "source": [
    "# TIP: Run it with resolution 8 for a better representation of reality"
   ]
  }
 ],
 "metadata": {
  "kernelspec": {
   "display_name": "Python 3 (ipykernel)",
   "language": "python",
   "name": "python3"
  },
  "language_info": {
   "codemirror_mode": {
    "name": "ipython",
    "version": 3
   },
   "file_extension": ".py",
   "mimetype": "text/x-python",
   "name": "python",
   "nbconvert_exporter": "python",
   "pygments_lexer": "ipython3",
   "version": "3.10.10"
  }
 },
 "nbformat": 4,
 "nbformat_minor": 5
}
